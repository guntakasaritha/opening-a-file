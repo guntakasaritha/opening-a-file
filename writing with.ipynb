{
 "cells": [
  {
   "cell_type": "code",
   "execution_count": 1,
   "id": "c4bddb1b-df53-40fd-bc47-e5a33134d1d5",
   "metadata": {},
   "outputs": [
    {
     "name": "stdout",
     "output_type": "stream",
     "text": [
      "file data in saritha.txt:  saritha\n"
     ]
    }
   ],
   "source": [
    "file= open('saritha.txt', 'r')\n",
    "data= file.read()\n",
    "print(\"file data in saritha.txt: \", data)\n",
    "file.close()"
   ]
  },
  {
   "cell_type": "code",
   "execution_count": 3,
   "id": "6d1c42ae-29f5-49ad-97fb-af11dad620e8",
   "metadata": {},
   "outputs": [],
   "source": [
    "f= open('saritha.txt', 'w')\n",
    "f.write(\"there are plenty of fruits in the graden..\")\n",
    "f.close()\n"
   ]
  },
  {
   "cell_type": "code",
   "execution_count": 5,
   "id": "60514077-4e75-4d56-a222-bfdb030bf6e0",
   "metadata": {},
   "outputs": [],
   "source": [
    "with open('root.txt','w') as sr:\n",
    "    sr.write(\"hello rahul.... how are you\")"
   ]
  },
  {
   "cell_type": "code",
   "execution_count": null,
   "id": "1cb5b400-342d-4908-ad46-3cf5ce554bd8",
   "metadata": {},
   "outputs": [],
   "source": []
  }
 ],
 "metadata": {
  "kernelspec": {
   "display_name": "Python 3 (ipykernel)",
   "language": "python",
   "name": "python3"
  },
  "language_info": {
   "codemirror_mode": {
    "name": "ipython",
    "version": 3
   },
   "file_extension": ".py",
   "mimetype": "text/x-python",
   "name": "python",
   "nbconvert_exporter": "python",
   "pygments_lexer": "ipython3",
   "version": "3.12.7"
  }
 },
 "nbformat": 4,
 "nbformat_minor": 5
}
